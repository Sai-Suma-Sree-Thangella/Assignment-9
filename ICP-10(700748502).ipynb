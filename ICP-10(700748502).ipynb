{
  "cells": [
    {
      "cell_type": "code",
      "execution_count": 17,
      "metadata": {
        "id": "IIojf9jesFca"
      },
      "outputs": [],
      "source": [
        "import pandas as pd #Basic packages for creating dataframes and loading dataset\n",
        "import numpy as np\n",
        "import matplotlib.pyplot as plt #Package for visualization\n",
        "import re #importing package for Regular expression operations\n",
        "from sklearn.model_selection import train_test_split #Package for splitting the data\n",
        "from sklearn.preprocessing import LabelEncoder #Package for conversion of categorical to Numerical\n",
        "from keras.preprocessing.text import Tokenizer #Tokenization\n",
        "from keras.preprocessing.sequence import pad_sequences #Add zeros or crop based on the length\n",
        "from keras.models import Sequential #Sequential Neural Network\n",
        "from keras.layers import Dense, Embedding, LSTM, SpatialDropout1D #For layers in Neural Network\n",
        "from keras.utils import to_categorical"
      ]
    },
    {
      "cell_type": "code",
      "execution_count": 2,
      "metadata": {
        "id": "F_9MkNrLtMPD"
      },
      "outputs": [],
      "source": [
        "import pandas as pd\n",
        "\n",
        "# Load the dataset as a Pandas DataFrame\n",
        "dataset = pd.read_csv('Sentiment.csv')\n",
        "\n",
        "# Select only the necessary columns 'text' and 'sentiment' without generating SettingWithCopyWarning\n",
        "data = dataset[['text', 'sentiment']].copy()\n",
        "\n",
        "# Apply lowercase transformation to the 'text' column\n",
        "data.loc[:, 'text'] = data['text'].str.lower()\n",
        "\n",
        "# Apply regex substitution to remove non-alphanumeric characters from the 'text' column\n",
        "data.loc[:, 'text'] = data['text'].apply(lambda x: re.sub('[^a-zA-z0-9\\s]', '', x))\n"
      ]
    },
    {
      "cell_type": "code",
      "execution_count": 3,
      "metadata": {
        "colab": {
          "base_uri": "https://localhost:8080/"
        },
        "id": "OgLqKOk-wTI7",
        "outputId": "52724030-a841-404e-c454-66d038adc06e"
      },
      "outputs": [],
      "source": [
        "data['text'] = data['text'].apply(lambda x: x.lower())\n",
        "data['text'] = data['text'].apply((lambda x: re.sub('[^a-zA-z0-9\\s]', '', x)))"
      ]
    },
    {
      "cell_type": "code",
      "execution_count": 4,
      "metadata": {
        "id": "kezr9unryjzm"
      },
      "outputs": [],
      "source": [
        "for idx, row in data.iterrows():\n",
        "    data.iloc[idx, 0] = row.iloc[0].replace('rt', ' ') #removing retweets"
      ]
    },
    {
      "cell_type": "code",
      "execution_count": 5,
      "metadata": {
        "id": "rXTEJG_RyzqR"
      },
      "outputs": [],
      "source": [
        "max_fatures = 2000\n",
        "tokenizer = Tokenizer(num_words=max_fatures, split=' ') #Maximum words is 2000 to tokenize sentence\n",
        "tokenizer.fit_on_texts(data['text'].values)\n",
        "X = tokenizer.texts_to_sequences(data['text'].values) #taking values to feature matrix\n"
      ]
    },
    {
      "cell_type": "code",
      "execution_count": 6,
      "metadata": {
        "id": "TgLvgT52y30W"
      },
      "outputs": [],
      "source": [
        "X = pad_sequences(X) #Padding the feature matrix\n",
        "\n",
        "embed_dim = 128 #Dimension of the Embedded layer\n",
        "lstm_out = 196 #Long short-term memory (LSTM) layer neurons"
      ]
    },
    {
      "cell_type": "code",
      "execution_count": 7,
      "metadata": {
        "id": "zMTB8dQjy65b"
      },
      "outputs": [],
      "source": [
        "def createmodel():\n",
        "    model = Sequential() #Sequential Neural Network\n",
        "    model.add(Embedding(max_fatures, embed_dim,input_length = X.shape[1])) #input dimension 2000 Neurons, output dimension 128 Neurons\n",
        "    model.add(LSTM(lstm_out, dropout=0.2, recurrent_dropout=0.2)) #Drop out 20%, 196 output Neurons, recurrent dropout 20%\n",
        "    model.add(Dense(3,activation='softmax')) #3 output neurons[positive, Neutral, Negative], softmax as activation\n",
        "    model.compile(loss = 'categorical_crossentropy', optimizer='adam',metrics = ['accuracy']) #Compiling the model\n",
        "    return model\n",
        "# print(model.summary())"
      ]
    },
    {
      "cell_type": "code",
      "execution_count": 8,
      "metadata": {
        "id": "OwETgBSZy-2X"
      },
      "outputs": [],
      "source": [
        "labelencoder = LabelEncoder() #Applying label Encoding on the label matrix\n",
        "integer_encoded = labelencoder.fit_transform(data['sentiment']) #fitting the model\n",
        "y = to_categorical(integer_encoded)\n",
        "X_train, X_test, Y_train, Y_test = train_test_split(X,y, test_size = 0.33, random_state = 42) #67% training data, 33% test data split"
      ]
    },
    {
      "cell_type": "code",
      "execution_count": 30,
      "metadata": {
        "colab": {
          "base_uri": "https://localhost:8080/"
        },
        "id": "qSjFXx1rzDuS",
        "outputId": "a03acd55-7110-4023-d745-02b9d2760cc8"
      },
      "outputs": [
        {
          "name": "stdout",
          "output_type": "stream",
          "text": [
            "291/291 - 13s - loss: 0.8294 - accuracy: 0.6493 - 13s/epoch - 44ms/step\n",
            "144/144 - 2s - loss: 0.7536 - accuracy: 0.6649 - 2s/epoch - 14ms/step\n",
            "0.7535722255706787\n",
            "0.6649191975593567\n"
          ]
        }
      ],
      "source": [
        "batch_size = 32 #Batch size 32\n",
        "model = createmodel() #Function call to Sequential Neural Network\n",
        "model.fit(X_train, Y_train, epochs = 1, batch_size=batch_size, verbose = 2) #verbose the higher, the more messages\n",
        "score,acc = model.evaluate(X_test,Y_test,verbose=2,batch_size=batch_size) #evaluating the model\n",
        "print(score)\n",
        "print(acc)"
      ]
    },
    {
      "cell_type": "code",
      "execution_count": 10,
      "metadata": {
        "colab": {
          "base_uri": "https://localhost:8080/"
        },
        "id": "Bf2EvPG9zeic",
        "outputId": "0cca1055-9c2d-4826-8d0d-71e8cd7b701e"
      },
      "outputs": [
        {
          "name": "stdout",
          "output_type": "stream",
          "text": [
            "['loss', 'accuracy']\n"
          ]
        }
      ],
      "source": [
        "print(model.metrics_names) #metrics of the model"
      ]
    },
    {
      "cell_type": "markdown",
      "metadata": {
        "id": "Rquip42Szihb"
      },
      "source": [
        "#1. Save the model and use the saved model to predict on new text data (ex, “A lot of good things are happening. We are respected again throughout the world, and that's a great thing.@realDonaldTrump”)"
      ]
    },
    {
      "cell_type": "code",
      "execution_count": 29,
      "metadata": {
        "colab": {
          "base_uri": "https://localhost:8080/"
        },
        "id": "f3kajJNlzqml",
        "outputId": "57bf27cd-e605-4eb5-ace3-c376f3957c68"
      },
      "outputs": [],
      "source": [
        "model.save('sentimentAnalysis.h5') #saving the model "
      ]
    },
    {
      "cell_type": "code",
      "execution_count": 28,
      "metadata": {
        "colab": {
          "base_uri": "https://localhost:8080/"
        },
        "id": "xpAA1CTIzt-9",
        "outputId": "88352a6b-a453-4faf-8866-92cccf004b34"
      },
      "outputs": [],
      "source": [
        "from keras.models import load_model #Importing the package for importing the saved model\n",
        "model= load_model('sentimentAnalysis.h5') #loading the saved model"
      ]
    },
    {
      "cell_type": "code",
      "execution_count": 13,
      "metadata": {
        "colab": {
          "base_uri": "https://localhost:8080/"
        },
        "id": "uDetTd52zzA1",
        "outputId": "0ecf7576-4ca5-4932-d0d1-0d0284612213"
      },
      "outputs": [
        {
          "name": "stdout",
          "output_type": "stream",
          "text": [
            "[1 2 1 ... 2 0 2]\n",
            "0         Neutral\n",
            "1        Positive\n",
            "2         Neutral\n",
            "3        Positive\n",
            "4        Positive\n",
            "           ...   \n",
            "13866    Negative\n",
            "13867    Positive\n",
            "13868    Positive\n",
            "13869    Negative\n",
            "13870    Positive\n",
            "Name: sentiment, Length: 13871, dtype: object\n"
          ]
        }
      ],
      "source": [
        "print(integer_encoded)\n",
        "print(data['sentiment'])"
      ]
    },
    {
      "cell_type": "code",
      "execution_count": 14,
      "metadata": {
        "colab": {
          "base_uri": "https://localhost:8080/"
        },
        "id": "nmt0a-S8z3vM",
        "outputId": "9e6095b2-4da6-4e60-d992-d98bf859f989"
      },
      "outputs": [
        {
          "name": "stdout",
          "output_type": "stream",
          "text": [
            "1/1 - 0s - 274ms/epoch - 274ms/step\n",
            "[0.7652533  0.17330918 0.06143747]\n",
            "Neutral\n"
          ]
        }
      ],
      "source": [
        "# Predicting on the text data\n",
        "sentence = ['A lot of good things are happening. We are respected again throughout the world, and that is a great thing.@realDonaldTrump']\n",
        "sentence = tokenizer.texts_to_sequences(sentence) # Tokenizing the sentence\n",
        "sentence = pad_sequences(sentence, maxlen=28, dtype='int32', value=0) # Padding the sentence\n",
        "sentiment_probs = model.predict(sentence, batch_size=1, verbose=2)[0] # Predicting the sentence text\n",
        "sentiment = np.argmax(sentiment_probs)\n",
        "\n",
        "print(sentiment_probs)\n",
        "if sentiment == 0:\n",
        "    print(\"Neutral\")\n",
        "elif sentiment < 0:\n",
        "    print(\"Negative\")\n",
        "elif sentiment > 0:\n",
        "    print(\"Positive\")\n",
        "else:\n",
        "    print(\"Cannot be determined\")\n"
      ]
    },
    {
      "cell_type": "markdown",
      "metadata": {
        "id": "QEnfsO0OCvFB"
      },
      "source": [
        "#2. Apply GridSearchCV on the source code provided in the class"
      ]
    },
    {
      "cell_type": "code",
      "execution_count": null,
      "metadata": {
        "colab": {
          "base_uri": "https://localhost:8080/"
        },
        "id": "BGAcAjV-nhan",
        "outputId": "66169aa4-dac9-490f-8cb2-9f2629150561"
      },
      "outputs": [],
      "source": [
        "pip install scikeras"
      ]
    },
    {
      "cell_type": "code",
      "execution_count": 16,
      "metadata": {
        "colab": {
          "base_uri": "https://localhost:8080/"
        },
        "id": "cNyJbCLR1e3A",
        "outputId": "d7b9b797-1e3e-4ae8-c161-023ef1412870"
      },
      "outputs": [
        {
          "name": "stdout",
          "output_type": "stream",
          "text": [
            "744/744 - 30s - loss: 0.8294 - accuracy: 0.6474 - 30s/epoch - 40ms/step\n",
            "186/186 - 1s - 1s/epoch - 7ms/step\n",
            "744/744 - 27s - loss: 0.8272 - accuracy: 0.6496 - 27s/epoch - 37ms/step\n",
            "186/186 - 1s - 1s/epoch - 6ms/step\n",
            "744/744 - 28s - loss: 0.8290 - accuracy: 0.6412 - 28s/epoch - 37ms/step\n",
            "186/186 - 1s - 1s/epoch - 6ms/step\n",
            "744/744 - 28s - loss: 0.8295 - accuracy: 0.6436 - 28s/epoch - 38ms/step\n",
            "186/186 - 2s - 2s/epoch - 9ms/step\n",
            "744/744 - 30s - loss: 0.8195 - accuracy: 0.6430 - 30s/epoch - 40ms/step\n",
            "186/186 - 2s - 2s/epoch - 10ms/step\n",
            "Epoch 1/2\n",
            "744/744 - 30s - loss: 0.8314 - accuracy: 0.6449 - 30s/epoch - 40ms/step\n",
            "Epoch 2/2\n",
            "744/744 - 27s - loss: 0.6853 - accuracy: 0.7094 - 27s/epoch - 37ms/step\n",
            "186/186 - 2s - 2s/epoch - 10ms/step\n",
            "Epoch 1/2\n",
            "744/744 - 30s - loss: 0.8232 - accuracy: 0.6513 - 30s/epoch - 40ms/step\n",
            "Epoch 2/2\n",
            "744/744 - 29s - loss: 0.6813 - accuracy: 0.7133 - 29s/epoch - 39ms/step\n",
            "186/186 - 1s - 1s/epoch - 7ms/step\n",
            "Epoch 1/2\n",
            "744/744 - 25s - loss: 0.8287 - accuracy: 0.6412 - 25s/epoch - 34ms/step\n",
            "Epoch 2/2\n",
            "744/744 - 24s - loss: 0.6822 - accuracy: 0.7131 - 24s/epoch - 32ms/step\n",
            "186/186 - 1s - 1s/epoch - 6ms/step\n",
            "Epoch 1/2\n",
            "744/744 - 27s - loss: 0.8290 - accuracy: 0.6468 - 27s/epoch - 37ms/step\n",
            "Epoch 2/2\n",
            "744/744 - 26s - loss: 0.6772 - accuracy: 0.7081 - 26s/epoch - 34ms/step\n",
            "186/186 - 2s - 2s/epoch - 9ms/step\n",
            "Epoch 1/2\n",
            "744/744 - 27s - loss: 0.8256 - accuracy: 0.6414 - 27s/epoch - 36ms/step\n",
            "Epoch 2/2\n",
            "744/744 - 25s - loss: 0.6711 - accuracy: 0.7135 - 25s/epoch - 34ms/step\n",
            "186/186 - 1s - 1s/epoch - 7ms/step\n",
            "372/372 - 17s - loss: 0.8287 - accuracy: 0.6399 - 17s/epoch - 46ms/step\n",
            "93/93 - 1s - 906ms/epoch - 10ms/step\n",
            "372/372 - 20s - loss: 0.8298 - accuracy: 0.6395 - 20s/epoch - 53ms/step\n",
            "93/93 - 1s - 1s/epoch - 12ms/step\n",
            "372/372 - 17s - loss: 0.8332 - accuracy: 0.6421 - 17s/epoch - 46ms/step\n",
            "93/93 - 1s - 991ms/epoch - 11ms/step\n",
            "372/372 - 18s - loss: 0.8326 - accuracy: 0.6403 - 18s/epoch - 49ms/step\n",
            "93/93 - 1s - 1s/epoch - 12ms/step\n",
            "372/372 - 20s - loss: 0.8234 - accuracy: 0.6399 - 20s/epoch - 55ms/step\n",
            "93/93 - 1s - 879ms/epoch - 9ms/step\n",
            "Epoch 1/2\n",
            "372/372 - 17s - loss: 0.8277 - accuracy: 0.6460 - 17s/epoch - 47ms/step\n",
            "Epoch 2/2\n",
            "372/372 - 15s - loss: 0.6811 - accuracy: 0.7086 - 15s/epoch - 41ms/step\n",
            "93/93 - 1s - 847ms/epoch - 9ms/step\n",
            "Epoch 1/2\n",
            "372/372 - 19s - loss: 0.8240 - accuracy: 0.6493 - 19s/epoch - 52ms/step\n",
            "Epoch 2/2\n",
            "372/372 - 17s - loss: 0.6799 - accuracy: 0.7104 - 17s/epoch - 45ms/step\n",
            "93/93 - 1s - 1s/epoch - 16ms/step\n",
            "Epoch 1/2\n",
            "372/372 - 20s - loss: 0.8254 - accuracy: 0.6414 - 20s/epoch - 54ms/step\n",
            "Epoch 2/2\n",
            "372/372 - 18s - loss: 0.6761 - accuracy: 0.7148 - 18s/epoch - 49ms/step\n",
            "93/93 - 1s - 1s/epoch - 15ms/step\n",
            "Epoch 1/2\n",
            "372/372 - 18s - loss: 0.8382 - accuracy: 0.6370 - 18s/epoch - 49ms/step\n",
            "Epoch 2/2\n",
            "372/372 - 16s - loss: 0.6814 - accuracy: 0.7050 - 16s/epoch - 44ms/step\n",
            "93/93 - 1s - 1s/epoch - 13ms/step\n",
            "Epoch 1/2\n",
            "372/372 - 21s - loss: 0.8247 - accuracy: 0.6430 - 21s/epoch - 57ms/step\n",
            "Epoch 2/2\n",
            "372/372 - 19s - loss: 0.6674 - accuracy: 0.7154 - 19s/epoch - 52ms/step\n",
            "93/93 - 2s - 2s/epoch - 17ms/step\n",
            "186/186 - 12s - loss: 0.8384 - accuracy: 0.6408 - 12s/epoch - 67ms/step\n",
            "47/47 - 1s - 885ms/epoch - 19ms/step\n",
            "186/186 - 12s - loss: 0.8416 - accuracy: 0.6386 - 12s/epoch - 63ms/step\n",
            "47/47 - 1s - 671ms/epoch - 14ms/step\n",
            "186/186 - 12s - loss: 0.8447 - accuracy: 0.6337 - 12s/epoch - 64ms/step\n",
            "47/47 - 1s - 811ms/epoch - 17ms/step\n",
            "186/186 - 11s - loss: 0.8482 - accuracy: 0.6358 - 11s/epoch - 61ms/step\n",
            "47/47 - 1s - 735ms/epoch - 16ms/step\n",
            "186/186 - 12s - loss: 0.8485 - accuracy: 0.6338 - 12s/epoch - 65ms/step\n",
            "47/47 - 1s - 780ms/epoch - 17ms/step\n",
            "Epoch 1/2\n",
            "186/186 - 11s - loss: 0.8451 - accuracy: 0.6338 - 11s/epoch - 62ms/step\n",
            "Epoch 2/2\n",
            "186/186 - 10s - loss: 0.6897 - accuracy: 0.7041 - 10s/epoch - 52ms/step\n",
            "47/47 - 1s - 744ms/epoch - 16ms/step\n",
            "Epoch 1/2\n",
            "186/186 - 12s - loss: 0.8461 - accuracy: 0.6396 - 12s/epoch - 63ms/step\n",
            "Epoch 2/2\n",
            "186/186 - 10s - loss: 0.6951 - accuracy: 0.7046 - 10s/epoch - 53ms/step\n",
            "47/47 - 1s - 731ms/epoch - 16ms/step\n",
            "Epoch 1/2\n",
            "186/186 - 12s - loss: 0.8461 - accuracy: 0.6353 - 12s/epoch - 64ms/step\n",
            "Epoch 2/2\n",
            "186/186 - 10s - loss: 0.6822 - accuracy: 0.7117 - 10s/epoch - 53ms/step\n",
            "47/47 - 1s - 786ms/epoch - 17ms/step\n",
            "Epoch 1/2\n",
            "186/186 - 12s - loss: 0.8468 - accuracy: 0.6330 - 12s/epoch - 63ms/step\n",
            "Epoch 2/2\n",
            "186/186 - 10s - loss: 0.6886 - accuracy: 0.7037 - 10s/epoch - 54ms/step\n",
            "47/47 - 1s - 741ms/epoch - 16ms/step\n",
            "Epoch 1/2\n",
            "186/186 - 12s - loss: 0.8464 - accuracy: 0.6362 - 12s/epoch - 66ms/step\n",
            "Epoch 2/2\n",
            "186/186 - 10s - loss: 0.6776 - accuracy: 0.7124 - 10s/epoch - 55ms/step\n",
            "47/47 - 1s - 773ms/epoch - 16ms/step\n",
            "Epoch 1/2\n",
            "465/465 - 40s - loss: 0.8167 - accuracy: 0.6451 - 40s/epoch - 85ms/step\n",
            "Epoch 2/2\n",
            "465/465 - 36s - loss: 0.6724 - accuracy: 0.7156 - 36s/epoch - 77ms/step\n",
            "Best: 0.683415 using {'batch_size': 20, 'epochs': 2}\n"
          ]
        }
      ],
      "source": [
        "from scikeras.wrappers import KerasClassifier #importing Keras classifier\n",
        "\n",
        "from sklearn.model_selection import GridSearchCV #importing Grid search CV\n",
        "\n",
        "model = KerasClassifier(model=createmodel,verbose=2) #initiating model to test performance by applying multiple hyper parameters\n",
        "batch_size= [10, 20, 40] #hyper parameter batch_size\n",
        "epochs = [1, 2] #hyper parameter no. of epochs\n",
        "param_grid= {'batch_size':batch_size, 'epochs':epochs} #creating dictionary for batch size, no. of epochs\n",
        "grid  = GridSearchCV(estimator=model, param_grid=param_grid) #Applying dictionary with hyper parameters\n",
        "grid_result= grid.fit(X_train,Y_train) #Fitting the model\n",
        "# summarize results\n",
        "print(\"Best: %f using %s\" % (grid_result.best_score_, grid_result.best_params_)) #best score, best hyper parameters"
      ]
    }
  ],
  "metadata": {
    "accelerator": "GPU",
    "colab": {
      "gpuType": "T4",
      "provenance": []
    },
    "kernelspec": {
      "display_name": "Python 3",
      "name": "python3"
    },
    "language_info": {
      "codemirror_mode": {
        "name": "ipython",
        "version": 3
      },
      "file_extension": ".py",
      "mimetype": "text/x-python",
      "name": "python",
      "nbconvert_exporter": "python",
      "pygments_lexer": "ipython3",
      "version": "3.10.0"
    }
  },
  "nbformat": 4,
  "nbformat_minor": 0
}
